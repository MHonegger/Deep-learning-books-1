{
  "nbformat": 4,
  "nbformat_minor": 0,
  "metadata": {
    "colab": {
      "name": "ML_for_Business_Assessment.ipynb",
      "provenance": [],
      "collapsed_sections": [],
      "toc_visible": true,
      "include_colab_link": true
    },
    "kernelspec": {
      "display_name": "Python 3",
      "name": "python3"
    },
    "language_info": {
      "name": "python"
    }
  },
  "cells": [
    {
      "cell_type": "markdown",
      "metadata": {
        "id": "view-in-github",
        "colab_type": "text"
      },
      "source": [
        "<a href=\"https://colab.research.google.com/github/MHonegger/Deep-learning-books-1/blob/master/ML_for_Business_Assessment.ipynb\" target=\"_parent\"><img src=\"https://colab.research.google.com/assets/colab-badge.svg\" alt=\"Open In Colab\"/></a>"
      ]
    },
    {
      "cell_type": "markdown",
      "metadata": {
        "id": "9g9aU3pdTmBv"
      },
      "source": [
        "# Machine Learning for Business - Assessment Notebook"
      ]
    },
    {
      "cell_type": "markdown",
      "metadata": {
        "id": "_2W15uWBT5W7"
      },
      "source": [
        "### Please enter your student number below:"
      ]
    },
    {
      "cell_type": "markdown",
      "metadata": {
        "id": "HWmVpfkjT5FX"
      },
      "source": [
        "*(Enter your student number here)*"
      ]
    },
    {
      "cell_type": "markdown",
      "metadata": {
        "id": "PJQm41x1630A"
      },
      "source": [
        "\n",
        "\n",
        "---\n",
        "\n"
      ]
    },
    {
      "cell_type": "markdown",
      "metadata": {
        "id": "TA7DNK29UVBj"
      },
      "source": [
        "# 1. Outline of the problem"
      ]
    },
    {
      "cell_type": "markdown",
      "metadata": {
        "id": "CHbR4LtrUtbR"
      },
      "source": [
        "### Predicting inventory errors"
      ]
    },
    {
      "cell_type": "markdown",
      "metadata": {
        "id": "7_MfnKgLUagm"
      },
      "source": [
        "Ensuring the availability of fast-moving items is essential for grocery retailers. In many cases, however, retailers are unable to make accurate reordering decisions because their inventory records (i.e. how much is actually available on the shelf) are inaccurate. Here, machine learning is proving to be an effective way to overcome this problem, as retailers can train algorithms to predict the likelihood of records with potential discrepancies between the amount of stock registered in the inventory records, and the amount of stock actually on the shelf. Being able to predict potential discrepancies allows stores to quickly correct emerging out-of-stock scenarios and by reordering product accordingly.\n",
        "\n",
        "In this exercise, we will train two algorihtms aimed at improving the inventory accuracy of a large grocery retailer. The training data contains information at SKU (stock keeping unit) level about actual sales, forecast sales, and product size, among others. We will use these variables to predict potential errors in the inventory stock, at SKU level."
      ]
    },
    {
      "cell_type": "markdown",
      "metadata": {
        "id": "ZZyTl1h-o9Wd"
      },
      "source": [
        "# 2. Setup"
      ]
    },
    {
      "cell_type": "markdown",
      "metadata": {
        "id": "41H5rDelpAQQ"
      },
      "source": [
        "### Import libraries"
      ]
    },
    {
      "cell_type": "markdown",
      "metadata": {
        "id": "0rrH_Uh6qC3p"
      },
      "source": [
        "Import libraries for managing data structures and plotting figures"
      ]
    },
    {
      "cell_type": "code",
      "metadata": {
        "id": "usJlqbBWmwk4"
      },
      "source": [
        "import pandas as pd\n",
        "import numpy as np\n",
        "import matplotlib.pyplot as plt\n",
        "import seaborn as sns\n",
        "%matplotlib inline \n",
        "\n",
        "sns.set()"
      ],
      "execution_count": null,
      "outputs": []
    },
    {
      "cell_type": "markdown",
      "metadata": {
        "id": "PCzj1zEVpHN3"
      },
      "source": [
        "### Import the dataset"
      ]
    },
    {
      "cell_type": "code",
      "metadata": {
        "id": "c_Z_wWQyn-IZ"
      },
      "source": [
        "data = pd.read_csv(\"https://sbs-ml.s3.eu-west-1.amazonaws.com/StockErrors-2.csv\")"
      ],
      "execution_count": null,
      "outputs": []
    },
    {
      "cell_type": "code",
      "metadata": {
        "id": "JOfxhCMoqr3J"
      },
      "source": [
        "data.head(6)"
      ],
      "execution_count": null,
      "outputs": []
    },
    {
      "cell_type": "markdown",
      "metadata": {
        "id": "GNln7mzGqvO1"
      },
      "source": [
        "# 3. Data exploration"
      ]
    },
    {
      "cell_type": "markdown",
      "metadata": {
        "id": "66M1iLY7d9gM"
      },
      "source": [
        "### Numerical exploration"
      ]
    },
    {
      "cell_type": "markdown",
      "metadata": {
        "id": "yx0wq4z2q4tY"
      },
      "source": [
        "Number of columns and rows in the dataset"
      ]
    },
    {
      "cell_type": "code",
      "metadata": {
        "id": "l9tbd43Sq6UV"
      },
      "source": [
        "print('Data size : ', data.shape)"
      ],
      "execution_count": null,
      "outputs": []
    },
    {
      "cell_type": "markdown",
      "metadata": {
        "id": "mfdqajYzrmcs"
      },
      "source": [
        "Checking for missing values"
      ]
    },
    {
      "cell_type": "code",
      "metadata": {
        "id": "mI2pvcozq61e"
      },
      "source": [
        "print('Null values per column : \\n', data.isnull().sum())"
      ],
      "execution_count": null,
      "outputs": []
    },
    {
      "cell_type": "markdown",
      "metadata": {
        "id": "tzMTvO4gr1fD"
      },
      "source": [
        "Calculating the basic statistics for each column"
      ]
    },
    {
      "cell_type": "code",
      "metadata": {
        "id": "jSM4pK-yrDYD"
      },
      "source": [
        "data.describe()"
      ],
      "execution_count": null,
      "outputs": []
    },
    {
      "cell_type": "markdown",
      "metadata": {
        "id": "nEdNPzvUr-oC"
      },
      "source": [
        "Inspecting the distribution of errors in the inventory records"
      ]
    },
    {
      "cell_type": "code",
      "metadata": {
        "id": "f_vrd4XyixbX"
      },
      "source": [
        "data = data.dropna()"
      ],
      "execution_count": null,
      "outputs": []
    },
    {
      "cell_type": "code",
      "metadata": {
        "id": "OmobcKssbkSL"
      },
      "source": [
        "print('\\nBalance of positive and negative error classes (%): \\n', \n",
        "      data['stock_error'].value_counts(normalize=True) * 100)"
      ],
      "execution_count": null,
      "outputs": []
    },
    {
      "cell_type": "markdown",
      "metadata": {
        "id": "_Htj8Obdd1W7"
      },
      "source": [
        "### Splitting the data\n",
        "\n"
      ]
    },
    {
      "cell_type": "code",
      "metadata": {
        "id": "Nz9VVzYUdrcb"
      },
      "source": [
        "from sklearn.model_selection import train_test_split"
      ],
      "execution_count": null,
      "outputs": []
    },
    {
      "cell_type": "markdown",
      "metadata": {
        "id": "AQjr01n4vhtL"
      },
      "source": [
        "Splitting the independent from the target variable. "
      ]
    },
    {
      "cell_type": "code",
      "metadata": {
        "id": "CZXYCSltjAYD"
      },
      "source": [
        "X = data.drop(['stock_error'], axis = 1)\n",
        "target = data['stock_error']"
      ],
      "execution_count": null,
      "outputs": []
    },
    {
      "cell_type": "markdown",
      "metadata": {
        "id": "5P6iKIayveUK"
      },
      "source": [
        "Splitting the data into our training and testing data sets"
      ]
    },
    {
      "cell_type": "code",
      "metadata": {
        "id": "MaIweemijAeP"
      },
      "source": [
        "X_train, X_test, y_train, y_test = train_test_split(X, \n",
        "                                                    target,  \n",
        "                                                    test_size = 0.3, \n",
        "                                                    random_state = 44,\n",
        "                                                    stratify=target)"
      ],
      "execution_count": null,
      "outputs": []
    },
    {
      "cell_type": "markdown",
      "metadata": {
        "id": "zOehqSRUcF4Q"
      },
      "source": [
        "# 4. Training of Algorithm # 1"
      ]
    },
    {
      "cell_type": "markdown",
      "metadata": {
        "id": "6pqbkTo7gtLa"
      },
      "source": [
        "### Pre-processing of the data"
      ]
    },
    {
      "cell_type": "code",
      "metadata": {
        "id": "V6Qi-5s5pmYb"
      },
      "source": [
        "from sklearn.preprocessing import MinMaxScaler, OneHotEncoder\n",
        "from sklearn.pipeline import Pipeline\n",
        "from sklearn.compose import ColumnTransformer"
      ],
      "execution_count": null,
      "outputs": []
    },
    {
      "cell_type": "markdown",
      "metadata": {
        "id": "vSSzJW4Fu9cK"
      },
      "source": [
        "Pre-processing of both numerical and categorical variables"
      ]
    },
    {
      "cell_type": "code",
      "metadata": {
        "id": "_8OYl2pgppgn"
      },
      "source": [
        "minMax = MinMaxScaler()"
      ],
      "execution_count": null,
      "outputs": []
    },
    {
      "cell_type": "code",
      "metadata": {
        "id": "5gEcKbfj1Wuc"
      },
      "source": [
        "# Transformer for categorical variables\n",
        "cat_transformer = Pipeline(steps=[\n",
        "        ('encoder', OneHotEncoder(sparse=False, handle_unknown='ignore'))\n",
        "    ])\n",
        "\n",
        "# Bundle preprocessing for numerical and categorical data\n",
        "preprocessor = ColumnTransformer(\n",
        "    transformers=[\n",
        "        ('num', minMax, list(range(0, 22))),\n",
        "        ('cat', cat_transformer, list(range(22, 27)))\n",
        "    ], remainder='passthrough')\n"
      ],
      "execution_count": null,
      "outputs": []
    },
    {
      "cell_type": "code",
      "metadata": {
        "id": "IBvor5ktqIwS"
      },
      "source": [
        "X_train_sc = preprocessor.fit_transform (X_train)\n",
        "X_test_sc = preprocessor.transform(X_test)"
      ],
      "execution_count": null,
      "outputs": []
    },
    {
      "cell_type": "markdown",
      "metadata": {
        "id": "C2fAIE7uhDJK"
      },
      "source": [
        "### Loading the model"
      ]
    },
    {
      "cell_type": "code",
      "metadata": {
        "id": "gSAOB_oodW2w"
      },
      "source": [
        "from sklearn.ensemble import RandomForestClassifier"
      ],
      "execution_count": null,
      "outputs": []
    },
    {
      "cell_type": "code",
      "metadata": {
        "id": "wR6dkP79io0W"
      },
      "source": [
        "clf = RandomForestClassifier(random_state=44)"
      ],
      "execution_count": null,
      "outputs": []
    },
    {
      "cell_type": "markdown",
      "metadata": {
        "id": "0_uOWu1H5-JR"
      },
      "source": [
        "Training the model"
      ]
    },
    {
      "cell_type": "code",
      "metadata": {
        "id": "yV7WfKqsipVN"
      },
      "source": [
        "clf.fit(X_train_sc, y_train)"
      ],
      "execution_count": null,
      "outputs": []
    },
    {
      "cell_type": "markdown",
      "metadata": {
        "id": "yMLVqcbLhD5S"
      },
      "source": [
        "## Making predictions"
      ]
    },
    {
      "cell_type": "markdown",
      "metadata": {
        "id": "A1Vnl5DFE-0d"
      },
      "source": [
        "### Predictions on the training set\n"
      ]
    },
    {
      "cell_type": "markdown",
      "metadata": {
        "id": "VNZxtZM8vLmE"
      },
      "source": [
        "Computing ROC-AUC"
      ]
    },
    {
      "cell_type": "code",
      "metadata": {
        "id": "BfJhVYL9BOwH"
      },
      "source": [
        "from sklearn.metrics import roc_auc_score, confusion_matrix"
      ],
      "execution_count": null,
      "outputs": []
    },
    {
      "cell_type": "code",
      "metadata": {
        "id": "RDOYhNOYAaKc"
      },
      "source": [
        "prob_est_train = clf.predict_proba(X_train_sc)\n",
        "roc_train = roc_auc_score(y_train, prob_est_train[:, 1].T)\n",
        "print('The {} has an ROC-AUC on the training set of {}'.format('Random Forest', roc_train))"
      ],
      "execution_count": null,
      "outputs": []
    },
    {
      "cell_type": "markdown",
      "metadata": {
        "id": "8S96ALz16kRz"
      },
      "source": [
        "Plotting the Confusion Matrix"
      ]
    },
    {
      "cell_type": "code",
      "metadata": {
        "id": "mJIaxcVtCFOO"
      },
      "source": [
        "y_pred_train_rf = clf.predict(X_train_sc)\n",
        "cm_rf_train = confusion_matrix(y_true=y_train, y_pred=y_pred_train_rf)"
      ],
      "execution_count": null,
      "outputs": []
    },
    {
      "cell_type": "code",
      "metadata": {
        "id": "uC3sI27H6ejl"
      },
      "source": [
        "plt.figure(figsize=(5, 5))\n",
        "sns.heatmap(cm_rf_train, annot=True, fmt=\"d\")\n",
        "plt.title('Confusion matrix for {}'.format('Random Forest on Training Set'))\n",
        "plt.ylabel('Actual label')\n",
        "plt.xlabel('Predicted label')"
      ],
      "execution_count": null,
      "outputs": []
    },
    {
      "cell_type": "markdown",
      "metadata": {
        "id": "Tr6RC3U-D4gr"
      },
      "source": [
        "### Predictions on the testing set"
      ]
    },
    {
      "cell_type": "code",
      "metadata": {
        "id": "-Mu1FaTxB03h"
      },
      "source": [
        "prob_est_test_rf = clf.predict_proba(X_test_sc)\n",
        "roc_train_rf = roc_auc_score(y_test, prob_est_test_rf[:, 1].T)\n",
        "print('The {} has an ROC-AUC on the testing set of {}'.format('Random Forest', roc_train_rf))"
      ],
      "execution_count": null,
      "outputs": []
    },
    {
      "cell_type": "markdown",
      "metadata": {
        "id": "8IhJuxSi7QDE"
      },
      "source": [
        "Plotting the Confusion Matrix"
      ]
    },
    {
      "cell_type": "code",
      "metadata": {
        "id": "K-VSh43z68XD"
      },
      "source": [
        "y_pred_test_rf = clf.predict(X_test_sc)\n",
        "cm_rf_test = confusion_matrix(y_true=y_test, y_pred = y_pred_test_rf)"
      ],
      "execution_count": null,
      "outputs": []
    },
    {
      "cell_type": "code",
      "metadata": {
        "id": "sffWPIJy_gB-"
      },
      "source": [
        "plt.figure(figsize=(5, 5))\n",
        "sns.heatmap(cm_rf_test, annot=True, fmt=\"d\")\n",
        "plt.title('Confusion matrix for {}'.format('Random Forest on Testing Set'))\n",
        "plt.ylabel('Actual label')\n",
        "plt.xlabel('Predicted label')"
      ],
      "execution_count": null,
      "outputs": []
    },
    {
      "cell_type": "markdown",
      "metadata": {
        "id": "vm9HlkROvYzB"
      },
      "source": [
        "Calculating further metrics"
      ]
    },
    {
      "cell_type": "code",
      "metadata": {
        "id": "_J_7c5Bm7hym"
      },
      "source": [
        "from sklearn.metrics import classification_report"
      ],
      "execution_count": null,
      "outputs": []
    },
    {
      "cell_type": "code",
      "metadata": {
        "id": "iGtQGSc37hg5"
      },
      "source": [
        "print(classification_report(y_test, y_pred_test_rf))"
      ],
      "execution_count": null,
      "outputs": []
    },
    {
      "cell_type": "markdown",
      "metadata": {
        "id": "oGQ0J6F7ZB-m"
      },
      "source": [
        "# 5. Training of Algorithm # 2"
      ]
    },
    {
      "cell_type": "code",
      "metadata": {
        "id": "FsbFFrwj7bhs"
      },
      "source": [
        "import tensorflow as tf\n",
        "import keras.metrics"
      ],
      "execution_count": null,
      "outputs": []
    },
    {
      "cell_type": "markdown",
      "metadata": {
        "id": "KQO9h43BAf49"
      },
      "source": [
        "### Defining the metrics for the evaluation"
      ]
    },
    {
      "cell_type": "code",
      "metadata": {
        "id": "4lauWivO9BXv"
      },
      "source": [
        "METRICS = [\n",
        "    keras.metrics.TruePositives(name='tp'),\n",
        "    keras.metrics.FalsePositives(name='fp'),\n",
        "    keras.metrics.TrueNegatives(name='tn'),\n",
        "    keras.metrics.FalseNegatives(name='fn'),\n",
        "    keras.metrics.BinaryAccuracy(name='accuracy'),\n",
        "    keras.metrics.AUC(name='auc'),\n",
        "    keras.metrics.AUC(name='prc', curve='PR'),\n",
        "]"
      ],
      "execution_count": null,
      "outputs": []
    },
    {
      "cell_type": "markdown",
      "metadata": {
        "id": "T3yx568N8X_Z"
      },
      "source": [
        "### Loading the model"
      ]
    },
    {
      "cell_type": "code",
      "metadata": {
        "id": "07qB0bjAwVCh"
      },
      "source": [
        "# Setting the number of layers and neurons per layer\n",
        "neurons = 70\n",
        "hidden_layers = 2"
      ],
      "execution_count": null,
      "outputs": []
    },
    {
      "cell_type": "code",
      "metadata": {
        "id": "pJ4MElxyOoNw"
      },
      "source": [
        "# Calculating the initial bias \n",
        "neg, pos = np.bincount(target)\n",
        "initial_bias = np.log([pos / neg])"
      ],
      "execution_count": null,
      "outputs": []
    },
    {
      "cell_type": "code",
      "metadata": {
        "id": "cWEbWWarpBs8"
      },
      "source": [
        "# Splitting the data into training and validation sets\n",
        "X_train_ann, X_val_ann, y_train_ann, y_val_ann = train_test_split(X_train_sc, y_train, test_size=0.2, stratify=y_train,\n",
        "                                                          random_state=44)"
      ],
      "execution_count": null,
      "outputs": []
    },
    {
      "cell_type": "code",
      "metadata": {
        "id": "GAGl7Baq76x8"
      },
      "source": [
        "# Initialising the model\n",
        "ann = tf.keras.models.Sequential()\n",
        "\n",
        "# Adding fully connected layers\n",
        "for layers in range(hidden_layers):\n",
        "    ann.add(tf.keras.layers.Dense(units=neurons, activation='relu'))\n",
        "\n",
        "ann.add(tf.keras.layers.Dropout(0.2))                                                           # Add a dropout layer\n",
        "ann.add(tf.keras.layers.Dense(units=1,activation='sigmoid', bias_initializer=tf.keras.initializers.Constant(initial_bias)))    # Add the output layer\n",
        "\n",
        "# Compiling the model\n",
        "ann.compile(optimizer= tf.optimizers.Adam(learning_rate=0.01), loss='binary_crossentropy', metrics=METRICS)"
      ],
      "execution_count": null,
      "outputs": []
    },
    {
      "cell_type": "markdown",
      "metadata": {
        "id": "Jgzl6r7N9qfe"
      },
      "source": [
        "Training of the model\n"
      ]
    },
    {
      "cell_type": "code",
      "metadata": {
        "id": "1XlHMEbM9VAi"
      },
      "source": [
        "baseline_history = ann.fit(X_train_ann,\n",
        "                           y_train_ann,\n",
        "                           batch_size=32,\n",
        "                           epochs=100,\n",
        "                           validation_data=(X_val_ann, y_val_ann),\n",
        "                           )\n"
      ],
      "execution_count": null,
      "outputs": []
    },
    {
      "cell_type": "markdown",
      "metadata": {
        "id": "R71fsENy4-KX"
      },
      "source": [
        "## Making predictions"
      ]
    },
    {
      "cell_type": "markdown",
      "metadata": {
        "id": "7C-cpgzS3GTA"
      },
      "source": [
        "### Predictions on the training set"
      ]
    },
    {
      "cell_type": "code",
      "metadata": {
        "id": "owdRCu-6-Gf0"
      },
      "source": [
        "plt.plot(baseline_history.epoch, baseline_history.history['auc'])\n",
        "# print('The {} has an ROC-AUC on the training set of {}'.format('Neural Network', roc_train))"
      ],
      "execution_count": null,
      "outputs": []
    },
    {
      "cell_type": "code",
      "metadata": {
        "id": "R7EM6-UkCIpQ"
      },
      "source": [
        "train_predictions_baseline = ann.predict(X_train_sc)"
      ],
      "execution_count": null,
      "outputs": []
    },
    {
      "cell_type": "code",
      "metadata": {
        "id": "fY6sQZh-Eu4_"
      },
      "source": [
        "ann_predictions  = pd.DataFrame(train_predictions_baseline)"
      ],
      "execution_count": null,
      "outputs": []
    },
    {
      "cell_type": "code",
      "metadata": {
        "id": "fXgrF9cuCcWi"
      },
      "source": [
        "confusion = confusion_matrix(y_true= y_train, y_pred = ann_predictions.iloc[:, 0] > 0.5)"
      ],
      "execution_count": null,
      "outputs": []
    },
    {
      "cell_type": "markdown",
      "metadata": {
        "id": "k3qwcUkAwYE2"
      },
      "source": [
        "Plotting the Confusion Matrix"
      ]
    },
    {
      "cell_type": "code",
      "metadata": {
        "id": "Yf-cQFId9-e_"
      },
      "source": [
        "plt.figure(figsize=(5, 5))\n",
        "sns.heatmap(confusion, annot=True, fmt=\"d\")\n",
        "plt.title('Confusion matrix for {}'.format('Random Forest on Training Set'))\n",
        "plt.ylabel('Actual label')\n",
        "plt.xlabel('Predicted label')"
      ],
      "execution_count": null,
      "outputs": []
    },
    {
      "cell_type": "markdown",
      "metadata": {
        "id": "delbR2L1-Gfz"
      },
      "source": [
        "### Predictions on the testing set\n"
      ]
    },
    {
      "cell_type": "code",
      "metadata": {
        "id": "GJPwWTZ8gX13"
      },
      "source": [
        "test_predictions_baseline = ann.predict(X_test_sc)"
      ],
      "execution_count": null,
      "outputs": []
    },
    {
      "cell_type": "code",
      "metadata": {
        "id": "btcB7PUzgX15"
      },
      "source": [
        "ann_predictions_test  = pd.DataFrame(test_predictions_baseline)"
      ],
      "execution_count": null,
      "outputs": []
    },
    {
      "cell_type": "code",
      "metadata": {
        "id": "OK-6ZUAKgX16"
      },
      "source": [
        "confusion_test = confusion_matrix(y_true= y_test, y_pred = ann_predictions_test.iloc[:, 0] > 0.5)"
      ],
      "execution_count": null,
      "outputs": []
    },
    {
      "cell_type": "markdown",
      "metadata": {
        "id": "tt3JyAH_weJT"
      },
      "source": [
        "Plotting the Confusion Matrix"
      ]
    },
    {
      "cell_type": "code",
      "metadata": {
        "id": "BdUsFj09hOMd"
      },
      "source": [
        "plt.figure(figsize=(5, 5))\n",
        "sns.heatmap(confusion_test, annot=True, fmt=\"d\")\n",
        "plt.title('Confusion matrix for {}'.format('Random Forest on Training Set'))\n",
        "plt.ylabel('Actual label')\n",
        "plt.xlabel('Predicted label')"
      ],
      "execution_count": null,
      "outputs": []
    },
    {
      "cell_type": "markdown",
      "metadata": {
        "id": "djxXN_hT6wu8"
      },
      "source": [
        "\n",
        "\n",
        "---\n",
        "\n"
      ]
    },
    {
      "cell_type": "markdown",
      "metadata": {
        "id": "cjh1lsx4ZBhx"
      },
      "source": [
        "# Your task"
      ]
    },
    {
      "cell_type": "markdown",
      "metadata": {
        "id": "fegQ1p61ZBUO"
      },
      "source": [
        "First, do make sure to have added your **student number** at the top!\n",
        "\n",
        "Then run the above notebook, and **answer the following two questions** (both parts are weighted equally):\n",
        "\n",
        "\n",
        "1.   State what kind of machine learning algorithms have been implemented in this workbook, and briefly interpret the results obtained.\n",
        "\n",
        "2.   Discuss the advantages and limitations of the two modelling approaches taken here, and state which approach you would choose for the task at hand. Justify your answer!\n",
        "\n"
      ]
    },
    {
      "cell_type": "markdown",
      "metadata": {
        "id": "ZZCwK2DsZBFb"
      },
      "source": [
        "# Your answer (1,000 words max)"
      ]
    },
    {
      "cell_type": "markdown",
      "metadata": {
        "id": "yGvpW2V9Zjp4"
      },
      "source": [
        "*(Please type here)*"
      ]
    },
    {
      "cell_type": "markdown",
      "metadata": {
        "id": "gvsqqcqn60QH"
      },
      "source": [
        "\n",
        "\n",
        "---\n",
        "\n"
      ]
    },
    {
      "cell_type": "markdown",
      "metadata": {
        "id": "cevlSVE5ZmpT"
      },
      "source": [
        "***Now Save your notebook, print it as PDF, and submit the PDF to SAMS!***"
      ]
    }
  ]
}